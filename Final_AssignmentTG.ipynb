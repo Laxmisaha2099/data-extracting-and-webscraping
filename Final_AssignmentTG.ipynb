{
  "cells": [
    {
      "cell_type": "markdown",
      "metadata": {
        "id": "aa187149-dadf-4188-8c39-a8d7d3687c45"
      },
      "source": [
        "<p style=\"text-align:center\">\n",
        "    <a href=\"https://skills.network/?utm_medium=Exinfluencer&utm_source=Exinfluencer&utm_content=000026UJ&utm_term=10006555&utm_id=NA-SkillsNetwork-Channel-SkillsNetworkCoursesIBMDeveloperSkillsNetworkPY0220ENSkillsNetwork900-2022-01-01\" target=\"_blank\">\n",
        "    <img src=\"https://cf-courses-data.s3.us.cloud-object-storage.appdomain.cloud/assets/logos/SN_web_lightmode.png\" width=\"200\" alt=\"Skills Network Logo\">\n",
        "    </a>\n",
        "</p>\n"
      ]
    },
    {
      "cell_type": "markdown",
      "metadata": {
        "id": "10bf47eb-4157-46ab-bf34-11760c27187c"
      },
      "source": [
        "<h1>Extracting and Visualizing Stock Data</h1>\n",
        "<h2>Description</h2>\n"
      ]
    },
    {
      "cell_type": "markdown",
      "metadata": {
        "id": "3523f97d-8349-48a0-a0a2-b0ddcabb5d74"
      },
      "source": [
        "Extracting essential data from a dataset and displaying it is a necessary part of data science; therefore individuals can make correct decisions based on the data. In this assignment, you will extract some stock data, you will then display this data in a graph.\n"
      ]
    },
    {
      "cell_type": "markdown",
      "metadata": {
        "id": "ea4b58ef-f5fb-47c0-9695-4824b3993436"
      },
      "source": [
        "<h2>Table of Contents</h2>\n",
        "<div class=\"alert alert-block alert-info\" style=\"margin-top: 20px\">\n",
        "    <ul>\n",
        "        <li>Define a Function that Makes a Graph</li>\n",
        "        <li>Question 1: Use yfinance to Extract Stock Data</li>\n",
        "        <li>Question 2: Use Webscraping to Extract Tesla Revenue Data</li>\n",
        "        <li>Question 3: Use yfinance to Extract Stock Data</li>\n",
        "        <li>Question 4: Use Webscraping to Extract GME Revenue Data</li>\n",
        "        <li>Question 5: Plot Tesla Stock Graph</li>\n",
        "        <li>Question 6: Plot GameStop Stock Graph</li>\n",
        "    </ul>\n",
        "<p>\n",
        "    Estimated Time Needed: <strong>30 min</strong></p>\n",
        "</div>\n",
        "\n",
        "<hr>\n"
      ]
    },
    {
      "cell_type": "markdown",
      "metadata": {
        "id": "4b4b923b-46df-4c9f-8f23-c1a173844e20"
      },
      "source": [
        "***Note***:- If you are working Locally using anaconda, please uncomment the following code and execute it.\n"
      ]
    },
    {
      "cell_type": "code",
      "metadata": {
        "id": "89133bf7-030b-49d1-866a-5b0343984f8c"
      },
      "outputs": [],
      "source": [
        "#!pip install yfinance==0.2.38\n",
        "#!pip install pandas==2.2.2\n",
        "#!pip install nbformat"
      ],
      "execution_count": null
    },
    {
      "cell_type": "code",
      "metadata": {
        "colab": {
          "base_uri": "https://localhost:8080/"
        },
        "id": "f457c8a6-4de8-42c2-a76f-8651b8e96d71",
        "outputId": "c1248bb6-c20e-4e3e-80c9-8b957f97b4cd"
      },
      "outputs": [
        {
          "output_type": "stream",
          "name": "stdout",
          "text": [
            "Requirement already satisfied: yfinance in /usr/local/lib/python3.10/dist-packages (0.2.41)\n",
            "Requirement already satisfied: pandas>=1.3.0 in /usr/local/lib/python3.10/dist-packages (from yfinance) (2.1.4)\n",
            "Requirement already satisfied: numpy>=1.16.5 in /usr/local/lib/python3.10/dist-packages (from yfinance) (1.26.4)\n",
            "Requirement already satisfied: requests>=2.31 in /usr/local/lib/python3.10/dist-packages (from yfinance) (2.32.3)\n",
            "Requirement already satisfied: multitasking>=0.0.7 in /usr/local/lib/python3.10/dist-packages (from yfinance) (0.0.11)\n",
            "Requirement already satisfied: lxml>=4.9.1 in /usr/local/lib/python3.10/dist-packages (from yfinance) (4.9.4)\n",
            "Requirement already satisfied: platformdirs>=2.0.0 in /usr/local/lib/python3.10/dist-packages (from yfinance) (4.2.2)\n",
            "Requirement already satisfied: pytz>=2022.5 in /usr/local/lib/python3.10/dist-packages (from yfinance) (2024.1)\n",
            "Requirement already satisfied: frozendict>=2.3.4 in /usr/local/lib/python3.10/dist-packages (from yfinance) (2.4.4)\n",
            "Requirement already satisfied: peewee>=3.16.2 in /usr/local/lib/python3.10/dist-packages (from yfinance) (3.17.6)\n",
            "Requirement already satisfied: beautifulsoup4>=4.11.1 in /usr/local/lib/python3.10/dist-packages (from yfinance) (4.12.3)\n",
            "Requirement already satisfied: html5lib>=1.1 in /usr/local/lib/python3.10/dist-packages (from yfinance) (1.1)\n",
            "Requirement already satisfied: soupsieve>1.2 in /usr/local/lib/python3.10/dist-packages (from beautifulsoup4>=4.11.1->yfinance) (2.5)\n",
            "Requirement already satisfied: six>=1.9 in /usr/local/lib/python3.10/dist-packages (from html5lib>=1.1->yfinance) (1.16.0)\n",
            "Requirement already satisfied: webencodings in /usr/local/lib/python3.10/dist-packages (from html5lib>=1.1->yfinance) (0.5.1)\n",
            "Requirement already satisfied: python-dateutil>=2.8.2 in /usr/local/lib/python3.10/dist-packages (from pandas>=1.3.0->yfinance) (2.8.2)\n",
            "Requirement already satisfied: tzdata>=2022.1 in /usr/local/lib/python3.10/dist-packages (from pandas>=1.3.0->yfinance) (2024.1)\n",
            "Requirement already satisfied: charset-normalizer<4,>=2 in /usr/local/lib/python3.10/dist-packages (from requests>=2.31->yfinance) (3.3.2)\n",
            "Requirement already satisfied: idna<4,>=2.5 in /usr/local/lib/python3.10/dist-packages (from requests>=2.31->yfinance) (3.7)\n",
            "Requirement already satisfied: urllib3<3,>=1.21.1 in /usr/local/lib/python3.10/dist-packages (from requests>=2.31->yfinance) (2.0.7)\n",
            "Requirement already satisfied: certifi>=2017.4.17 in /usr/local/lib/python3.10/dist-packages (from requests>=2.31->yfinance) (2024.7.4)\n",
            "Collecting bs4\n",
            "  Downloading bs4-0.0.2-py2.py3-none-any.whl.metadata (411 bytes)\n",
            "Requirement already satisfied: beautifulsoup4 in /usr/local/lib/python3.10/dist-packages (from bs4) (4.12.3)\n",
            "Requirement already satisfied: soupsieve>1.2 in /usr/local/lib/python3.10/dist-packages (from beautifulsoup4->bs4) (2.5)\n",
            "Downloading bs4-0.0.2-py2.py3-none-any.whl (1.2 kB)\n",
            "Installing collected packages: bs4\n",
            "Successfully installed bs4-0.0.2\n",
            "Requirement already satisfied: nbformat in /usr/local/lib/python3.10/dist-packages (5.10.4)\n",
            "Requirement already satisfied: fastjsonschema>=2.15 in /usr/local/lib/python3.10/dist-packages (from nbformat) (2.20.0)\n",
            "Requirement already satisfied: jsonschema>=2.6 in /usr/local/lib/python3.10/dist-packages (from nbformat) (4.23.0)\n",
            "Requirement already satisfied: jupyter-core!=5.0.*,>=4.12 in /usr/local/lib/python3.10/dist-packages (from nbformat) (5.7.2)\n",
            "Requirement already satisfied: traitlets>=5.1 in /usr/local/lib/python3.10/dist-packages (from nbformat) (5.7.1)\n",
            "Requirement already satisfied: attrs>=22.2.0 in /usr/local/lib/python3.10/dist-packages (from jsonschema>=2.6->nbformat) (24.2.0)\n",
            "Requirement already satisfied: jsonschema-specifications>=2023.03.6 in /usr/local/lib/python3.10/dist-packages (from jsonschema>=2.6->nbformat) (2023.12.1)\n",
            "Requirement already satisfied: referencing>=0.28.4 in /usr/local/lib/python3.10/dist-packages (from jsonschema>=2.6->nbformat) (0.35.1)\n",
            "Requirement already satisfied: rpds-py>=0.7.1 in /usr/local/lib/python3.10/dist-packages (from jsonschema>=2.6->nbformat) (0.20.0)\n",
            "Requirement already satisfied: platformdirs>=2.5 in /usr/local/lib/python3.10/dist-packages (from jupyter-core!=5.0.*,>=4.12->nbformat) (4.2.2)\n"
          ]
        }
      ],
      "source": [
        "!pip install yfinance\n",
        "!pip install bs4\n",
        "!pip install nbformat"
      ],
      "execution_count": 1
    },
    {
      "cell_type": "code",
      "metadata": {
        "id": "a284503f-17a6-40d6-a558-63cd1e15de12"
      },
      "outputs": [],
      "source": [
        "import yfinance as yf\n",
        "import pandas as pd\n",
        "import requests\n",
        "from bs4 import BeautifulSoup\n",
        "import plotly.graph_objects as go\n",
        "from plotly.subplots import make_subplots"
      ],
      "execution_count": 3
    },
    {
      "cell_type": "markdown",
      "metadata": {
        "id": "b5ec07f4-f185-4b61-bfb4-179a64c14f5b"
      },
      "source": [
        "In Python, you can ignore warnings using the warnings module. You can use the filterwarnings function to filter or ignore specific warning messages or categories.\n"
      ]
    },
    {
      "cell_type": "code",
      "metadata": {
        "id": "c048f3c7-3ddf-4687-b58e-4c818010b902"
      },
      "outputs": [],
      "source": [
        "import warnings\n",
        "# Ignore all warnings\n",
        "warnings.filterwarnings(\"ignore\", category=FutureWarning)"
      ],
      "execution_count": 4
    },
    {
      "cell_type": "markdown",
      "metadata": {
        "id": "650d18a7-84c5-4f86-b756-08533e20d0da"
      },
      "source": [
        "## Define Graphing Function\n"
      ]
    },
    {
      "cell_type": "markdown",
      "metadata": {
        "id": "e88193b0-e644-4a34-ae88-3375a6b67d41"
      },
      "source": [
        "In this section, we define the function `make_graph`. **You don't have to know how the function works, you should only care about the inputs. It takes a dataframe with stock data (dataframe must contain Date and Close columns), a dataframe with revenue data (dataframe must contain Date and Revenue columns), and the name of the stock.**\n"
      ]
    },
    {
      "cell_type": "code",
      "metadata": {
        "id": "bbf60624-48dc-4100-a2df-cf8878db53c2"
      },
      "outputs": [],
      "source": [
        "def make_graph(stock_data, revenue_data, stock):\n",
        "    fig = make_subplots(rows=2, cols=1, shared_xaxes=True, subplot_titles=(\"Historical Share Price\", \"Historical Revenue\"), vertical_spacing = .3)\n",
        "    stock_data_specific = stock_data[stock_data.Date <= '2021--06-14']\n",
        "    revenue_data_specific = revenue_data[revenue_data.Date <= '2021-04-30']\n",
        "    fig.add_trace(go.Scatter(x=pd.to_datetime(stock_data_specific.Date), y=stock_data_specific.Close.astype(\"float\"), name=\"Share Price\"), row=1, col=1)\n",
        "    fig.add_trace(go.Scatter(x=pd.to_datetime(revenue_data_specific.Date), y=revenue_data_specific.Revenue.astype(\"float\"), name=\"Revenue\"), row=2, col=1)\n",
        "    fig.update_xaxes(title_text=\"Date\", row=1, col=1)\n",
        "    fig.update_xaxes(title_text=\"Date\", row=2, col=1)\n",
        "    fig.update_yaxes(title_text=\"Price ($US)\", row=1, col=1)\n",
        "    fig.update_yaxes(title_text=\"Revenue ($US Millions)\", row=2, col=1)\n",
        "    fig.update_layout(showlegend=False,\n",
        "    height=900,\n",
        "    title=stock,\n",
        "    xaxis_rangeslider_visible=True)\n",
        "    fig.show()"
      ],
      "execution_count": 5
    },
    {
      "cell_type": "markdown",
      "metadata": {
        "id": "434d3253-4697-4570-894b-31f8041d00ce"
      },
      "source": [
        "Use the make_graph function that we’ve already defined. You’ll need to invoke it in questions 5 and 6 to display the graphs and create the dashboard.\n",
        "> **Note: You don’t need to redefine the function for plotting graphs anywhere else in this notebook; just use the existing function.**\n"
      ]
    },
    {
      "cell_type": "markdown",
      "metadata": {
        "id": "4e1fab34-e7c6-4877-8172-b5f4e9c86557"
      },
      "source": [
        "## Question 1: Use yfinance to Extract Stock Data\n"
      ]
    },
    {
      "cell_type": "code",
      "metadata": {
        "id": "6c74c251-cd7c-4409-98b8-a28fe4aeb5b6"
      },
      "outputs": [],
      "source": [
        "tesla = yf.Ticker('TSLA')"
      ],
      "execution_count": 35
    },
    {
      "cell_type": "code",
      "metadata": {
        "id": "4c88b333-72c2-4f28-88d6-41f32937f70e"
      },
      "outputs": [],
      "source": [
        "tesla_data = tesla.history(period=\"max\")\n"
      ],
      "execution_count": 36
    },
    {
      "cell_type": "code",
      "metadata": {
        "id": "9bcfeb3d-f1ee-49d5-b9af-aca03350d5f9"
      },
      "outputs": [],
      "source": [
        "tesla_data.reset_index(inplace=True)"
      ],
      "execution_count": 37
    },
    {
      "cell_type": "markdown",
      "metadata": {
        "id": "9fc7053f-f00c-4572-b757-85b9255ba69b"
      },
      "source": [
        "## Question 2: Use Webscraping to Extract Tesla Revenue Data\n"
      ]
    },
    {
      "cell_type": "code",
      "metadata": {
        "id": "a4228af6-b84e-4928-963f-5131d476ea3d"
      },
      "outputs": [],
      "source": [
        "url = \"https://cf-courses-data.s3.us.cloud-object-storage.appdomain.cloud/IBMDeveloperSkillsNetwork-PY0220EN-SkillsNetwork/labs/project/revenue.htm\"\n",
        "response = requests.get(url)\n",
        "html_data = response\n",
        "\n"
      ],
      "execution_count": 50
    },
    {
      "cell_type": "code",
      "metadata": {
        "id": "79457109-6276-4cc1-b1e1-00c38dc280c2"
      },
      "outputs": [],
      "source": [
        "soup = BeautifulSoup(html_data.content, 'html.parser')\n"
      ],
      "execution_count": 51
    },
    {
      "cell_type": "code",
      "metadata": {
        "id": "33500a3a-9494-44b4-a56a-45cd547b6b66"
      },
      "outputs": [],
      "source": [
        "tables = soup.find_all('table')"
      ],
      "execution_count": 89
    },
    {
      "cell_type": "code",
      "source": [
        "relevant_table = None\n",
        "for table in tables:\n",
        "    if \"Tesla Quarterly Revenue\" in table.text:\n",
        "        relevant_table = table\n",
        "        break"
      ],
      "metadata": {
        "id": "ho9iwiYJIE7Q"
      },
      "execution_count": 95,
      "outputs": []
    },
    {
      "cell_type": "code",
      "source": [
        "import pandas as pd\n",
        "tesla_revenue = pd.DataFrame(columns=[\"Date\", \"Revenue\"])\n",
        "data_to_append = []\n",
        "for row in relevant_table.find_all('tr'):\n",
        "    columns = row.find_all('td')\n",
        "    if len(columns) == 2:\n",
        "        date = columns[0].text.strip()\n",
        "        revenue = columns[1].text.strip().replace('$', '').replace(',', '')\n",
        "        data_to_append.append({\"Date\": date, \"Revenue\": revenue})\n",
        "tesla_revenue = pd.concat([tesla_revenue, pd.DataFrame(data_to_append)], ignore_index=True)"
      ],
      "metadata": {
        "id": "VOW40s4TIC_y"
      },
      "execution_count": 30,
      "outputs": []
    },
    {
      "cell_type": "code",
      "metadata": {
        "colab": {
          "base_uri": "https://localhost:8080/"
        },
        "id": "58f0d1b4-ab70-47ee-83b3-28ddd62ec96d",
        "outputId": "2ea5a0b8-65d3-4730-a744-eecc4d6d2509"
      },
      "outputs": [
        {
          "output_type": "stream",
          "name": "stdout",
          "text": [
            "          Date Revenue\n",
            "57  2006-01-31    1667\n",
            "58  2005-10-31     534\n",
            "59  2005-07-31     416\n",
            "60  2005-04-30     475\n",
            "61  2005-01-31     709\n"
          ]
        }
      ],
      "source": [
        "print(tesla_revenue.tail())"
      ],
      "execution_count": 38
    },
    {
      "cell_type": "markdown",
      "metadata": {
        "id": "eee79fef-dd0f-4ced-9fd6-3ef923cbaef6"
      },
      "source": [
        "## Question 3: Use yfinance to Extract Stock Data\n"
      ]
    },
    {
      "cell_type": "code",
      "metadata": {
        "id": "d3da8ea9-4fd2-402a-87ce-f047ecbfd655"
      },
      "outputs": [],
      "source": [
        "import yfinance as yf\n",
        "gamestop = yf.Ticker('GME')"
      ],
      "execution_count": 2
    },
    {
      "cell_type": "code",
      "metadata": {
        "id": "f2eebdf3-0a4f-4b9c-928c-293db2265b3c"
      },
      "outputs": [],
      "source": [
        "game_data = gamestop.history(period=\"max\")"
      ],
      "execution_count": 3
    },
    {
      "cell_type": "code",
      "metadata": {
        "id": "deab424e-5f92-499d-bd5d-edd60e337123"
      },
      "outputs": [],
      "source": [
        "game_data.reset_index(inplace=True)"
      ],
      "execution_count": 4
    },
    {
      "cell_type": "code",
      "metadata": {
        "id": "3a54bc5a-9236-448b-8586-8dacb3c0838b"
      },
      "outputs": [],
      "source": [
        "import requests\n",
        "url = \"https://cf-courses-data.s3.us.cloud-object-storage.appdomain.cloud/IBMDeveloperSkillsNetwork-PY0220EN-SkillsNetwork/labs/project/stock.html\"\n",
        "response = requests.get(url)\n",
        "html_data_2 = response"
      ],
      "execution_count": 7
    },
    {
      "cell_type": "code",
      "metadata": {
        "id": "7b9071cc-605a-4401-99b7-24a57cdfa119"
      },
      "outputs": [],
      "source": [
        "from  bs4 import BeautifulSoup\n",
        "soup = BeautifulSoup(html_data_2.content, 'html.parser')"
      ],
      "execution_count": 12
    },
    {
      "cell_type": "code",
      "metadata": {
        "id": "e1ddcbc3-5917-472b-990f-cfc1dd4adda0"
      },
      "outputs": [],
      "source": [
        "tables = soup.find_all('table')"
      ],
      "execution_count": 32
    },
    {
      "cell_type": "code",
      "source": [
        "relevant_table = None\n",
        "for table in tables:\n",
        "    if \"GameStop Quarterly Revenue\" in table.text:\n",
        "        relevant_table = table\n",
        "        break"
      ],
      "metadata": {
        "id": "5jmgIp35qvM5"
      },
      "execution_count": 16,
      "outputs": []
    },
    {
      "cell_type": "code",
      "source": [
        "import pandas as pd\n",
        "gme_revenue = pd.DataFrame(columns=[\"Date\", \"Revenue\"])\n",
        "data_to_append = []\n",
        "for row in relevant_table.find_all('tr'):\n",
        "    columns = row.find_all('td')\n",
        "    if len(columns) == 2:\n",
        "        date = columns[0].text.strip()\n",
        "        revenue = columns[1].text.strip().replace('$', '').replace(',', '')\n",
        "        data_to_append.append({\"Date\": date, \"Revenue\": revenue})\n",
        "gme_revenue = pd.concat([gme_revenue, pd.DataFrame(data_to_append)], ignore_index=True)\n"
      ],
      "metadata": {
        "id": "OXhAYdX5qvQe"
      },
      "execution_count": 18,
      "outputs": []
    },
    {
      "cell_type": "code",
      "metadata": {
        "colab": {
          "base_uri": "https://localhost:8080/"
        },
        "id": "ee03fbe2-54cb-42dd-a0c7-f91e33f81b84",
        "outputId": "4eefe0de-023c-4396-9b97-5909ffdaf998"
      },
      "outputs": [
        {
          "output_type": "stream",
          "name": "stdout",
          "text": [
            "          Date Revenue\n",
            "57  2006-01-31    1667\n",
            "58  2005-10-31     534\n",
            "59  2005-07-31     416\n",
            "60  2005-04-30     475\n",
            "61  2005-01-31     709\n"
          ]
        }
      ],
      "source": [
        "print(gme_revenue.tail())"
      ],
      "execution_count": 39
    },
    {
      "cell_type": "markdown",
      "metadata": {
        "id": "fd83e0c6-cf8c-470e-bf21-c788bbbe5c18"
      },
      "source": [
        "## Question 5: Plot Tesla Stock Graph\n"
      ]
    },
    {
      "cell_type": "markdown",
      "metadata": {
        "id": "e53bfab4-d856-4127-9fe5-46bc410c3f80"
      },
      "source": [
        "Use the `make_graph` function to graph the Tesla Stock Data, also provide a title for the graph. Note the graph will only show data upto June 2021.\n"
      ]
    },
    {
      "cell_type": "markdown",
      "metadata": {
        "id": "cef65dfb-db27-4fd1-bd87-0952d8e6b3c6"
      },
      "source": [
        "<details><summary>Hint</summary>\n",
        "\n",
        "```\n",
        "\n",
        "You just need to invoke the make_graph function with the required parameter to print the graphs.The structure to call the `make_graph` function is `make_graph(tesla_data, tesla_revenue, 'Tesla')`.\n",
        "\n",
        "```\n",
        "    \n",
        "</details>\n"
      ]
    },
    {
      "cell_type": "code",
      "metadata": {
        "id": "6ba792ed-ab97-4739-afed-610df150eec2"
      },
      "outputs": [],
      "source": [
        "import plotly.graph_objects as go\n",
        "from plotly.subplots import make_subplots\n",
        "def make_graph(stock_data, revenue_data, stock):\n",
        " plt.xlabel('Date')\n",
        " plt.ylabel('Revenue')\n",
        " plt.show()\n",
        "\n",
        " make_graph(tesla_data, tesla_revenue, 'Tesla')"
      ],
      "execution_count": 26
    },
    {
      "cell_type": "markdown",
      "metadata": {
        "id": "894de5f3-4739-4d7e-b099-6ebd9bfe51a9"
      },
      "source": [
        "## Question 6: Plot GameStop Stock Graph\n"
      ]
    },
    {
      "cell_type": "markdown",
      "metadata": {
        "id": "8dffc84a-6692-4478-a0b0-6bd713cdb576"
      },
      "source": [
        "Use the `make_graph` function to graph the GameStop Stock Data, also provide a title for the graph. The structure to call the `make_graph` function is `make_graph(gme_data, gme_revenue, 'GameStop')`. Note the graph will only show data upto June 2021.\n"
      ]
    },
    {
      "cell_type": "markdown",
      "metadata": {
        "id": "f8d4f91f-aa8e-4430-bff4-d9427ee9e553"
      },
      "source": [
        "<details><summary>Hint</summary>\n",
        "\n",
        "```\n",
        "\n",
        "You just need to invoke the make_graph function with the required parameter to print the graphs.The structure to call the `make_graph` function is `make_graph(gme_data, gme_revenue, 'GameStop')`\n",
        "\n",
        "```\n",
        "    \n",
        "</details>\n"
      ]
    },
    {
      "cell_type": "code",
      "metadata": {
        "id": "c1acbfc7-05af-46e5-ac8d-ab60ef6a8aa3"
      },
      "outputs": [],
      "source": [
        "import plotly.graph_objects as go\n",
        "from plotly.subplots import make_subplots\n",
        "def make_graph(stock_data, revenue_data, stock):\n",
        " plt.xlabel('Date')\n",
        " plt.ylabel('Revenue')\n",
        " plt.show()\n",
        " make_graph(game_data, gme_revenue, 'GameStop')"
      ],
      "execution_count": 27
    },
    {
      "cell_type": "markdown",
      "metadata": {
        "id": "90719df3-5716-43b1-853f-d71b18da37db"
      },
      "source": [
        "<h2>About the Authors:</h2>\n",
        "\n",
        "<a href=\"https://www.linkedin.com/in/joseph-s-50398b136/\">Joseph Santarcangelo</a> has a PhD in Electrical Engineering, his research focused on using machine learning, signal processing, and computer vision to determine how videos impact human cognition. Joseph has been working for IBM since he completed his PhD.\n"
      ]
    },
    {
      "cell_type": "markdown",
      "metadata": {
        "id": "1680e1e8-45cd-4f15-95ec-8b6afde9a8e1"
      },
      "source": [
        "## <h3 align=\"center\"> © IBM Corporation 2020. All rights reserved. <h3/>\n",
        "\n",
        "```toggle ## Change Log\n",
        "```\n",
        "```toggle | Date (YYYY-MM-DD) | Version | Changed By    | Change Description        |\n",
        "```\n",
        "```toggle | ----------------- | ------- | ------------- | ------------------------- |\n",
        "```\n",
        "```toggle | 2022-02-28        | 1.2     | Lakshmi Holla | Changed the URL of GameStop |\n",
        "```\n",
        "```toggle | 2020-11-10        | 1.1     | Malika Singla | Deleted the Optional part |\n",
        "```\n",
        "```toggle | 2020-08-27        | 1.0     | Malika Singla | Added lab to GitLab       |\n",
        "```\n"
      ]
    }
  ],
  "metadata": {
    "kernelspec": {
      "display_name": "Python 3 (ipykernel)",
      "language": "python",
      "name": "python3"
    },
    "language_info": {
      "codemirror_mode": {
        "name": "ipython",
        "version": 3
      },
      "file_extension": ".py",
      "mimetype": "text/x-python",
      "name": "python",
      "nbconvert_exporter": "python",
      "pygments_lexer": "ipython3",
      "version": "3.11.9"
    },
    "prev_pub_hash": "3eff379447b11bb93fcfe9128340484c280bbca92c51ece98405a1f05537425b",
    "colab": {
      "provenance": []
    }
  },
  "nbformat": 4,
  "nbformat_minor": 0
}